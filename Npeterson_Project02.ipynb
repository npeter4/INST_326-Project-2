{
 "cells": [
  {
   "cell_type": "markdown",
   "id": "bc00dbc1",
   "metadata": {},
   "source": [
    "### Project 02: Create a GUI Notebook Program"
   ]
  },
  {
   "cell_type": "code",
   "execution_count": null,
   "id": "6e61c761-1d1e-4750-9b1d-5002afbb5869",
   "metadata": {},
   "outputs": [],
   "source": []
  },
  {
   "cell_type": "markdown",
   "id": "b3f87ffb",
   "metadata": {},
   "source": [
    "Nolan Peterson 3/31/24"
   ]
  },
  {
   "cell_type": "markdown",
   "id": "62110c98",
   "metadata": {},
   "source": [
    "Project 2 will adapt the procedural code we have been working on in INST326_SimpleGUI_Note_Form_IO.ipynb to create an OOP version of the program using three classes.\n",
    "\n",
    "    A Notebook or MainWindow class\n",
    "    A Form or TopWindow class\n",
    "    A Note class\n",
    "\n",
    "The MainWindow class is a subclass of Tkinter’s tk.Tk class and thus inherits its attributes and methods, while allowing us to customize the new window objects to our needs. These new window objects will represent “notebooks” or collections of notes, and allow us to work with those notes. (I have named it MainWindow because this class definition could be used to create any kind of main window in Tkinter. We are using it to represent notebooks in this application, but you might use it for other purposes in onther applications.)\n"
   ]
  },
  {
   "cell_type": "markdown",
   "id": "67692272",
   "metadata": {},
   "source": [
    "The TopWindow class creates a new top window in Tkinter, which is essentially a form for entering the title, text, links, and tags for our note. When we submit the note, this “form” object has a method that creates the note’s metadata and a new Note object. That note object is appended to the list of all notes, which is an attribute of the notebook (MainWindow) class.\n",
    "The Note class creates note objects that contain the  title, text, links, tags, and metadata for each note.\n",
    "\n",
    "For Project 02 you will:  \n",
    "\n",
    "    1. Create one notebook or MainWindow object  \n",
    "    2. Create several (at least 3) ‘real’ notes for your final submission. By ‘real’ I mean actual notes about python that are useful to you. Print them in the cell at the bottom of the notebook.\n",
    "    3. Save those notes to a single .txt, .csv, or .json file (your choice of format).  \n",
    "    4. Retrieve those notes and \n",
    "    5. Display representations of them as either labels or buttons in the  main window (remember how we displayed cards in project 01). These representations are not whole notes. Rather, they are object representations of the notes.  \n",
    "    6. When they are clicked the whole note pops up in a new window - either the form window or a ‘read-only’ version of the form window.\n",
    "\n"
   ]
  },
  {
   "cell_type": "markdown",
   "id": "cd7630c0",
   "metadata": {},
   "source": [
    "#### Complete your code in the cell below"
   ]
  },
  {
   "cell_type": "markdown",
   "id": "50f0a965",
   "metadata": {},
   "source": [
    "The code cell below contains the imports you will need; the top level structure for the three classes to get you started; and the execution code at the bottom. "
   ]
  },
  {
   "cell_type": "code",
   "execution_count": 10,
   "id": "57954c28",
   "metadata": {},
   "outputs": [
    {
     "ename": "NameError",
     "evalue": "name 'filepath' is not defined",
     "output_type": "error",
     "traceback": [
      "\u001b[0;31m---------------------------------------------------------------------------\u001b[0m",
      "\u001b[0;31mNameError\u001b[0m                                 Traceback (most recent call last)",
      "Cell \u001b[0;32mIn[10], line 11\u001b[0m\n\u001b[1;32m      5\u001b[0m \u001b[38;5;28;01mfrom\u001b[39;00m \u001b[38;5;21;01mtkinter\u001b[39;00m \u001b[38;5;28;01mimport\u001b[39;00m filedialog\n\u001b[1;32m      6\u001b[0m \u001b[38;5;66;03m# The MainWindow class creates a custom GUI window based on the tkinter window (tk.Tk)\u001b[39;00m\n\u001b[1;32m      7\u001b[0m \u001b[38;5;66;03m# It has an __init__() method, and three additional methods (new_note(), open_notebook(), and save_notebook())\u001b[39;00m\n\u001b[1;32m      8\u001b[0m \u001b[38;5;66;03m# These methods correspond to new, open, and save buttons in the window.\u001b[39;00m\n\u001b[1;32m      9\u001b[0m \u001b[38;5;66;03m# The new_note method calls the NoteForm class to create a new note form top level window.\u001b[39;00m\n\u001b[0;32m---> 11\u001b[0m \u001b[38;5;28;43;01mclass\u001b[39;49;00m\u001b[43m \u001b[49m\u001b[38;5;21;43;01mMainWindow\u001b[39;49;00m\u001b[43m(\u001b[49m\u001b[43mtk\u001b[49m\u001b[38;5;241;43m.\u001b[39;49m\u001b[43mTk\u001b[49m\u001b[43m)\u001b[49m\u001b[43m:\u001b[49m\n\u001b[1;32m     12\u001b[0m \u001b[43m    \u001b[49m\u001b[38;5;28;43;01mdef\u001b[39;49;00m\u001b[43m \u001b[49m\u001b[38;5;21;43m__init__\u001b[39;49m\u001b[43m(\u001b[49m\u001b[38;5;28;43mself\u001b[39;49m\u001b[43m)\u001b[49m\u001b[43m:\u001b[49m\u001b[43m  \u001b[49m\u001b[38;5;66;43;03m#initialize the main window\u001b[39;49;00m\n\u001b[1;32m     13\u001b[0m \u001b[43m        \u001b[49m\u001b[38;5;28;43msuper\u001b[39;49m\u001b[43m(\u001b[49m\u001b[43m)\u001b[49m\u001b[38;5;241;43m.\u001b[39;49m\u001b[38;5;21;43m__init__\u001b[39;49m\u001b[43m(\u001b[49m\u001b[43m)\u001b[49m\u001b[43m \u001b[49m\u001b[38;5;66;43;03m# initialize it as a tkinter window\u001b[39;49;00m\n",
      "Cell \u001b[0;32mIn[10], line 28\u001b[0m, in \u001b[0;36mMainWindow\u001b[0;34m()\u001b[0m\n\u001b[1;32m     23\u001b[0m \u001b[38;5;28;01mdef\u001b[39;00m \u001b[38;5;21mopen_notebook\u001b[39m(\u001b[38;5;28mself\u001b[39m):\n\u001b[1;32m     24\u001b[0m     filepath \u001b[38;5;241m=\u001b[39m filedialog\u001b[38;5;241m.\u001b[39maskopenfilename(initialdir\u001b[38;5;241m=\u001b[39m\u001b[38;5;124m\"\u001b[39m\u001b[38;5;124mC:Downloads\u001b[39m\u001b[38;5;124m\"\u001b[39m, \u001b[38;5;66;03m# NameError: name 'filepath' is not defined not sure why filepath \u001b[39;00m\n\u001b[1;32m     25\u001b[0m                                      filetypes\u001b[38;5;241m=\u001b[39m[(\u001b[38;5;124m\"\u001b[39m\u001b[38;5;124mtext files\u001b[39m\u001b[38;5;124m\"\u001b[39m, \u001b[38;5;124m\"\u001b[39m\u001b[38;5;124m*.txt\u001b[39m\u001b[38;5;124m\"\u001b[39m), \n\u001b[1;32m     26\u001b[0m                                                 (\u001b[38;5;124m\"\u001b[39m\u001b[38;5;124mcsv files\u001b[39m\u001b[38;5;124m\"\u001b[39m, \u001b[38;5;124m\"\u001b[39m\u001b[38;5;124m.csv\u001b[39m\u001b[38;5;124m\"\u001b[39m),\n\u001b[1;32m     27\u001b[0m                                                 (\u001b[38;5;124m\"\u001b[39m\u001b[38;5;124mall files\u001b[39m\u001b[38;5;124m\"\u001b[39m, \u001b[38;5;124m\"\u001b[39m\u001b[38;5;124m*.*\u001b[39m\u001b[38;5;124m\"\u001b[39m)])\n\u001b[0;32m---> 28\u001b[0m file \u001b[38;5;241m=\u001b[39m \u001b[38;5;28mopen\u001b[39m(\u001b[43mfilepath\u001b[49m, \u001b[38;5;124m\"\u001b[39m\u001b[38;5;124mr\u001b[39m\u001b[38;5;124m\"\u001b[39m)\n\u001b[1;32m     29\u001b[0m file_list \u001b[38;5;241m=\u001b[39m file\u001b[38;5;241m.\u001b[39mread()\u001b[38;5;241m.\u001b[39msplit(\u001b[38;5;124m'\u001b[39m\u001b[38;5;130;01m\\n\u001b[39;00m\u001b[38;5;124m'\u001b[39m)\n\u001b[1;32m     30\u001b[0m file\u001b[38;5;241m.\u001b[39mclose()\n",
      "\u001b[0;31mNameError\u001b[0m: name 'filepath' is not defined"
     ]
    }
   ],
   "source": [
    "# imports\n",
    "import tkinter as tk\n",
    "from tkinter import ttk\n",
    "import datetime # one module for working with dates and times\n",
    "from tkinter import filedialog\n",
    "# The MainWindow class creates a custom GUI window based on the tkinter window (tk.Tk)\n",
    "# It has an __init__() method, and three additional methods (new_note(), open_notebook(), and save_notebook())\n",
    "# These methods correspond to new, open, and save buttons in the window.\n",
    "# The new_note method calls the NoteForm class to create a new note form top level window.\n",
    "\n",
    "class MainWindow(tk.Tk):\n",
    "    def __init__(self):  #initialize the main window\n",
    "        super().__init__() # initialize it as a tkinter window\n",
    "        self.geometry(\"600x400\") # set the default window size\n",
    "        self.title('Notebook') #set the default window title\n",
    "        self.notebook = [] # initialize an attribute named 'notebook' as an empty list\n",
    "        self.notes = []\n",
    "        \n",
    "\n",
    "    def new_note(self):\n",
    "        note_window = NoteForm(self, self.notebook, self.notes)\n",
    "\n",
    "    def open_notebook(self):\n",
    "        filepath = filedialog.askopenfilename(initialdir=\"C:Downloads\", # NameError: name 'filepath' is not defined not sure why filepath is not defined when I define it the line before \n",
    "                                         filetypes=[(\"text files\", \"*.txt\"), \n",
    "                                                    (\"csv files\", \".csv\"),\n",
    "                                                    (\"all files\", \"*.*\")])\n",
    "    file = open(filepath, \"r\")\n",
    "    file_list = file.read().split('\\n')\n",
    "    file.close()\n",
    "    note_title.delete(0, 'end')\n",
    "    note_text.delete('1.0', 'end')\n",
    "    note_title.insert(0, file_list[0])\n",
    "    note_text.insert('1.0', file_list[1])\n",
    "    meta = file_list[2]\n",
    "    print(meta)\n",
    "    \n",
    "    def save_notebook(self):\n",
    "        filename = filedialog.asksaveasfilename(defaultextension=\".txt\", filetypes=[(\"text files\", \"*.txt\")]) #save notebook to txt file\n",
    "        if filename:\n",
    "            with open(filename, 'w') as file:\n",
    "                for note in self.notebook:\n",
    "                    file.write(f\"{note.title},{note.text},{note.link},{note.tags},{note.meta}\\n\")\n",
    "                    \n",
    "b1 = tk.Button(self, text=\"New Note\", command=self.new_note) #creates button to make new note\n",
    "new_button.pack(pady=10)\n",
    "open_button = tk.Button(self, text=\"Open Notebook\", command=self.open_notebook) #creates button to open notebook\n",
    "open_button.pack(pady=5)\n",
    "save_button = tk.Button(self, text=\"Save Notebook\", command=self.save_notebook) #creates button to save notebook\n",
    "save_button.pack(pady=5)\n",
    "# the NoteForm() class creates a Toplevel window that is a note form containing fields for\n",
    "# data entry for title, text, link, and tags. It also calculates a meta field with date, time, and timezone\n",
    "# the Noteform class has an __init__() method, and a submit() method that is called by a submit button\n",
    "# the class may contain additional methods to perform tasks like calculating the metadata, for example\n",
    "# the submit method calls the MakeNote class that transforms the the entered data into a new note object.\n",
    "\n",
    "class NoteForm(tk.Toplevel):\n",
    "    \n",
    "    def __init__(self, master, notebook, notes): # initialize the new object\n",
    "        super().__init__(master) # initialize it as a toplevel window\n",
    "        self.title('New Note') \n",
    "        self.notebook = notebook\n",
    "        self.notes = notes\n",
    "        self.geometry(\"600x400\")#sets window size\n",
    "        \n",
    "    title_label = tk.Label(top, text=\"Title:\") #creates title label\n",
    "    title_label.grid(padx=10, pady=10, row=0, column=0, sticky='w')\n",
    "    \n",
    "    title_entry = tk.Entry(top)  #creates title entry\n",
    "    title_entry.grid(padx=10, pady=10, row=0, column=1)\n",
    "    \n",
    "    text_label = tk.Label(top, text=\"Text:\") #creates text label\n",
    "    text_label.grid(padx=10, pady=10,row=1, column=0, sticky='w')\n",
    "    \n",
    "    text_entry = tk.Entry(top) #creates text entry\n",
    "    text_entry.grid(padx=10, pady=10,row=1, column=1)\n",
    "    \n",
    "    link_label = ttk.Label(top, text=\"Link:\") #creates link label\n",
    "    link_label.grid(padx=10, pady=10,row=2, column=0, sticky='w')\n",
    "    \n",
    "    link_entry = ttk.Entry(top) #creates link entry\n",
    "    link_entry.grid(padx=10, pady=10,row=2, column=1)\n",
    "    \n",
    "    tags_label = tk.Label(top, text=\"Tags:\") #creates tags label\n",
    "    tags_label.grid(padx=10, pady=10,row=3, column=0, sticky='w')\n",
    "    \n",
    "    tags_entry = ttk.Entry(top) #creates tags entry box\n",
    "    tags_entry.grid(padx=10, pady=10,row=3, column=1)\n",
    "    \n",
    "    submit_button = tk.Button(top, text=\"Submit\", command=submit) #creates submit button\n",
    "    submit_button.grid(row=4, columnspan=2, pady=10)     \n",
    "    \n",
    "    def submit(self):\n",
    "        title = self.title_entry.get()\n",
    "        text = self.text_entry.get()\n",
    "        link = self.link_entry.get()\n",
    "        tags = self.tags_entry.get()\n",
    "        meta = datetime.datetime.now()\n",
    "        note_dict = {'title': title, 'text': text, 'link': link, 'tags': tags, 'meta': meta} #creates dict\n",
    "        new_note = MakeNote(note_dict)\n",
    "        self.notes.append(new_note) #appends new note to notes list\n",
    "        \n",
    "# The MakeNote class takes a dictionary containing the data entered into the form window,\n",
    "# and transforms it into a new note object.\n",
    "# At present the note objects have attributes but no methods.\n",
    "\n",
    "class MakeNote():\n",
    "    def __init__(self, note_dict):\n",
    "        self.title = note_dict['title'] \n",
    "        self.text = note_dict['text']\n",
    "        self.link = note_dict['link']\n",
    "        self.tags = note_dict['tags']\n",
    "        self.meta = note_dict['meta']\n",
    "\n",
    "# main execution\n",
    "\n",
    "if __name__ == '__main__':\n",
    "    \n",
    "    main_window = MainWindow() # this creates a notebook / main window called main_window. You may change the name if you want\n",
    "\n",
    "    main_window.mainloop()"
   ]
  },
  {
   "cell_type": "markdown",
   "id": "c50d5149",
   "metadata": {},
   "source": [
    "#### Print your three notes below"
   ]
  },
  {
   "cell_type": "code",
   "execution_count": 11,
   "id": "dd1811bf",
   "metadata": {},
   "outputs": [
    {
     "ename": "NameError",
     "evalue": "name 'new_note' is not defined",
     "output_type": "error",
     "traceback": [
      "\u001b[0;31m---------------------------------------------------------------------------\u001b[0m",
      "\u001b[0;31mNameError\u001b[0m                                 Traceback (most recent call last)",
      "Cell \u001b[0;32mIn[11], line 1\u001b[0m\n\u001b[0;32m----> 1\u001b[0m \u001b[38;5;28mprint\u001b[39m(\u001b[43mnew_note\u001b[49m)\n",
      "\u001b[0;31mNameError\u001b[0m: name 'new_note' is not defined"
     ]
    }
   ],
   "source": [
    "print(new_note) #couldn't create notes \n",
    "#3 notes I wanted to create \n",
    "\n",
    "#Note 1 Title:How to read data from a JSON file in Python, \n",
    "\n",
    "#Text: import json\n",
    "#def read_json_from_file(filepath):\n",
    "\t#with open(filepath, \"r\") as f:\n",
    "    #data = json.load(f) \n",
    "#Note 2 Title: How to parse data from a CSV file in Python\n",
    "#Text:import csv\n",
    "\n",
    "#def parse_csv_data(csv_path):\n",
    "\t#csv_mapping_list = []\n",
    "\n",
    "\t#with open(csv_path) as my_data:\n",
    "\t    #csv_reader = csv.reader(my_data, delimiter=\",\")\n",
    "\t    #line_count = 0\n",
    "\t    #for line in csv_reader:\n",
    "\t        #if line_count == 0:\n",
    "\t            #header = line\n",
    "\t        #else:\n",
    "\t            #row_dict = {key: value for key, value in zip(header, line)}\n",
    "\t            #csv_mapping_list.append(row_dict)\n",
    "\t        #line_count += 1 \n",
    "#Note 3 Title: How to write JSON data to file in Python\n",
    "#Text:import json\n",
    "\n",
    "#def write_json_to_file(data, filepath):\n",
    "\t#with open(filename, \"w\") as f:\n",
    "\t\t#json.dump(data, f, indent=4) "
   ]
  },
  {
   "cell_type": "code",
   "execution_count": null,
   "id": "4f2f1115-893e-472a-94a3-4af6bd8753f6",
   "metadata": {},
   "outputs": [],
   "source": []
  }
 ],
 "metadata": {
  "kernelspec": {
   "display_name": "Python 3 (ipykernel)",
   "language": "python",
   "name": "python3"
  },
  "language_info": {
   "codemirror_mode": {
    "name": "ipython",
    "version": 3
   },
   "file_extension": ".py",
   "mimetype": "text/x-python",
   "name": "python",
   "nbconvert_exporter": "python",
   "pygments_lexer": "ipython3",
   "version": "3.12.1"
  }
 },
 "nbformat": 4,
 "nbformat_minor": 5
}
